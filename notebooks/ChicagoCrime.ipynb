{
  "cells": [
    {
      "cell_type": "markdown",
      "metadata": {
        "id": "eJ0v68V-yTh-"
      },
      "source": [
        "## Packages Installation\n",
        "\n",
        "\n"
      ]
    },
    {
      "cell_type": "code",
      "execution_count": 1,
      "metadata": {
        "id": "b7OZ-OwqvQNX"
      },
      "outputs": [],
      "source": [
        "%%capture\n",
        "!pip install pyspark==3.5.0\n",
        "!pip install gdown"
      ]
    },
    {
      "cell_type": "markdown",
      "metadata": {
        "id": "qcjvyuiY4R8F"
      },
      "source": [
        "## Setting Flags"
      ]
    },
    {
      "cell_type": "code",
      "execution_count": 2,
      "metadata": {
        "id": "hIOpTjyI6D7b"
      },
      "outputs": [],
      "source": [
        "preprocessing_pending = False"
      ]
    },
    {
      "cell_type": "markdown",
      "metadata": {
        "id": "2QDW4gqV49wP"
      },
      "source": [
        "## Imports"
      ]
    },
    {
      "cell_type": "code",
      "execution_count": 104,
      "metadata": {
        "id": "RVMYeaUR4_DP"
      },
      "outputs": [],
      "source": [
        "import os\n",
        "import gdown\n",
        "import matplotlib.pyplot as plt\n",
        "import pandas as pd\n",
        "import seaborn as sns\n",
        "import matplotlib.pyplot as plt\n",
        "from google.colab import drive\n",
        "from pyspark import SparkContext, StorageLevel\n",
        "from pyspark.ml import Pipeline\n",
        "from pyspark.ml.classification import (GBTClassifier, LogisticRegression,\n",
        "                                       RandomForestClassifier)\n",
        "from pyspark.ml.evaluation import MulticlassClassificationEvaluator\n",
        "from pyspark.ml.feature import (IndexToString, StringIndexer, VectorAssembler,\n",
        "                                VectorIndexer)\n",
        "from pyspark.ml.linalg import Vectors\n",
        "from pyspark.ml.stat import Correlation\n",
        "from pyspark.ml.tuning import CrossValidator, ParamGridBuilder\n",
        "from pyspark.mllib.tree import RandomForest\n",
        "from pyspark.sql import DataFrame, SparkSession\n",
        "from pyspark.sql.functions import *\n",
        "from pyspark.sql.types import *"
      ]
    },
    {
      "cell_type": "markdown",
      "metadata": {
        "id": "oUADSPrjv0sB"
      },
      "source": [
        "## Downloading Raw Data\n",
        "\n",
        "The dataset consists of incidents of crime reported in the city of Chicago from 2001 to 2019. Data is extracted from the Chicago Police Department's **CLEAR** (Citizen Law Enforcement Analysis and Reporting) system.\n",
        "\n",
        "**Link:** https://data.cityofchicago.org/Public-Safety/Crimes-2001-to-Present/ijzp-q8t2\n",
        "\n",
        "Downloading the data directly from source link is pretty slow. That's why data is download one time from the source link  and stored in google drive after compression. This was a manual step."
      ]
    },
    {
      "cell_type": "code",
      "execution_count": 4,
      "metadata": {
        "id": "Ss0C3jg1zLFF"
      },
      "outputs": [],
      "source": [
        "if preprocessing_pending:\n",
        "  drive.mount('/content/drive')"
      ]
    },
    {
      "cell_type": "code",
      "execution_count": 5,
      "metadata": {
        "id": "_yRvhcMBv2mA"
      },
      "outputs": [],
      "source": [
        "data_link = 'https://drive.google.com/u/0/uc?id=1wRGDX25AyYWw2eA771CCbvugxYrRQOtw'"
      ]
    },
    {
      "cell_type": "code",
      "execution_count": 6,
      "metadata": {
        "id": "ERpmUcFezfrS"
      },
      "outputs": [],
      "source": [
        "compressed_file_path = '/content/drive/MyDrive/CrimeInsightsRawData/Crimes_2001_to_Present.csv.zip'\n",
        "!mkdir -p /content/drive/MyDrive/CrimeInsightsRawData"
      ]
    },
    {
      "cell_type": "markdown",
      "metadata": {
        "id": "o2DjFZ8y5vyY"
      },
      "source": [
        "Downloading raw compressed data from google drive and uncompressing it in case of pending preprocessing"
      ]
    },
    {
      "cell_type": "code",
      "execution_count": 7,
      "metadata": {
        "id": "XviuBb9KeYWB"
      },
      "outputs": [],
      "source": [
        "%%capture\n",
        "if preprocessing_pending:\n",
        "  gdown.download(data_link,compressed_file_path)\n",
        "  os.system(\"\"\"unzip -o /content/drive/MyDrive/CrimeInsightsRawData/Crimes_2001_to_Present.csv.zip -d /content/drive/MyDrive/CrimeInsightsRawData/\"\"\")"
      ]
    },
    {
      "cell_type": "code",
      "execution_count": 8,
      "metadata": {
        "id": "omiD9KcGhiNe"
      },
      "outputs": [],
      "source": [
        "file_path = '/content/drive/MyDrive/CrimeInsightsRawData/Crimes_2001_to_Present.csv'"
      ]
    },
    {
      "cell_type": "markdown",
      "metadata": {
        "id": "2kL0Zpbc67Yo"
      },
      "source": [
        "## Data Preprocessing & Transformations"
      ]
    },
    {
      "cell_type": "markdown",
      "metadata": {
        "id": "EJ6a9Eob5ngl"
      },
      "source": [
        "Set up the configuration for our Spark application.\n",
        "- SparkContext allows us to connect to a Spark cluster.  \n",
        "- Spark Session which allows us to work with structured data using DataFrames and Datasets."
      ]
    },
    {
      "cell_type": "code",
      "execution_count": 9,
      "metadata": {
        "id": "b6tNKsj63xH3"
      },
      "outputs": [],
      "source": [
        "spark = SparkSession.builder.appName(\"CrimeInsights\")\\\n",
        ".config(\"spark.driver.memory\", \"10g\")\\\n",
        ".getOrCreate()"
      ]
    },
    {
      "cell_type": "markdown",
      "metadata": {
        "id": "isSm4cCp5wvb"
      },
      "source": [
        "**Defining the schema on how we will structure our DataFrame**\n",
        "\n",
        "\n",
        "*   The column name as a string\n",
        "*   The data type of the column\n",
        "*   A Boolean value indicating that null values are allowed in the column.\n",
        "\n",
        "\n",
        "\n",
        "\n"
      ]
    },
    {
      "cell_type": "code",
      "execution_count": 10,
      "metadata": {
        "id": "b8Xuo5hg6d_N"
      },
      "outputs": [],
      "source": [
        "schema = StructType([StructField(\"ID\", IntegerType(), True),\n",
        "                            StructField(\"Case Number\", StringType(), True),\n",
        "                            StructField(\"Date\", StringType(), True ),\n",
        "                            StructField(\"Block\", StringType(), True),\n",
        "                            StructField(\"IUCR\", StringType(), True),\n",
        "                            StructField(\"Primary Type\", StringType(), True  ),\n",
        "                            StructField(\"Description\", StringType(), True ),\n",
        "                            StructField(\"Location Description\", StringType(), True ),\n",
        "                            StructField(\"Arrest\", BooleanType(), True),\n",
        "                            StructField(\"Domestic\", BooleanType(), True),\n",
        "                            StructField(\"Beat\", StringType(), True),\n",
        "                            StructField(\"District\", StringType(), True),\n",
        "                            StructField(\"Ward\", IntegerType(), True),\n",
        "                            StructField(\"Community Area\", IntegerType(), True),\n",
        "                            StructField(\"FBI Code\", StringType(), True ),\n",
        "                            StructField(\"X Coordinate\", DoubleType(), True),\n",
        "                            StructField(\"Y Coordinate\", DoubleType(), True ),\n",
        "                            StructField(\"Year\", IntegerType(), True),\n",
        "                            StructField(\"Updated On\", DateType(), True ),\n",
        "                            StructField(\"Latitude\", DoubleType(), True),\n",
        "                            StructField(\"Longitude\", DoubleType(), True),\n",
        "                            StructField(\"Location\", StringType(), True )\n",
        "                            ])"
      ]
    },
    {
      "cell_type": "markdown",
      "metadata": {
        "id": "DPNqLNgC7VMF"
      },
      "source": [
        "Read the CSV file, applies the schema and stores the data in a DataFrame if preprocessing is pending\n",
        "\n"
      ]
    },
    {
      "cell_type": "code",
      "execution_count": 11,
      "metadata": {
        "id": "M2sjOwgv3_Eh"
      },
      "outputs": [],
      "source": [
        "if preprocessing_pending:\n",
        "  df = spark.read.csv(file_path,header=True,schema=schema)\n",
        "  df.show()"
      ]
    },
    {
      "cell_type": "markdown",
      "metadata": {
        "id": "hObg_QaB8Y7Y"
      },
      "source": [
        "Casting date column to timestamp type"
      ]
    },
    {
      "cell_type": "code",
      "execution_count": 12,
      "metadata": {
        "id": "_uzvFQga4JTq"
      },
      "outputs": [],
      "source": [
        "if preprocessing_pending:\n",
        "  casted_df = df.withColumn('Date',to_timestamp(col('date'),'MM/dd/yyyy hh:mm:ss a'))\n",
        "  casted_df.show()"
      ]
    },
    {
      "cell_type": "markdown",
      "metadata": {
        "id": "RtIGbHyN8e_h"
      },
      "source": [
        "Storing data in parquet format for faster processing only doing it in case of pending preprocessing"
      ]
    },
    {
      "cell_type": "code",
      "execution_count": 13,
      "metadata": {
        "id": "swd8RQ0c-Y2a"
      },
      "outputs": [],
      "source": [
        "parquet_path = '/content/drive/MyDrive/CrimeInsightParquet/'"
      ]
    },
    {
      "cell_type": "code",
      "execution_count": 14,
      "metadata": {
        "id": "pN_tYe7w9OVm"
      },
      "outputs": [],
      "source": [
        "if preprocessing_pending:\n",
        "  casted_df.write.parquet(parquet_path,mode='overwrite')"
      ]
    },
    {
      "cell_type": "code",
      "execution_count": 15,
      "metadata": {
        "id": "gzSz7zTs7Jap"
      },
      "outputs": [],
      "source": [
        "if preprocessing_pending:\n",
        "  parqued_df = spark.read.parquet(parquet_path)\n",
        "  parqued_df.printSchema()"
      ]
    },
    {
      "cell_type": "markdown",
      "metadata": {
        "id": "atPQVqfd-IgM"
      },
      "source": [
        "Creating mapping of violent crimes. These values are coming from the raw data field **Primary Type**. We used ChatGPT to create flags for classification of violent crimes based on the **Primary Type** value"
      ]
    },
    {
      "cell_type": "code",
      "execution_count": 16,
      "metadata": {
        "id": "-HA0eViLTMCE"
      },
      "outputs": [],
      "source": [
        "if preprocessing_pending:\n",
        "  CrimeMapping = [\n",
        "      (\"THEFT\", False),\n",
        "      (\"BATTERY\", True),\n",
        "      (\"CRIMINAL DAMAGE\", True),\n",
        "      (\"NARCOTICS\", False),\n",
        "      (\"ASSAULT\", True),\n",
        "      (\"OTHER OFFENSE\", False),\n",
        "      (\"BURGLARY\", False),\n",
        "      (\"MOTOR VEHICLE THEFT\", False),\n",
        "      (\"DECEPTIVE PRACTICE\", False),\n",
        "      (\"ROBBERY\", True),\n",
        "      (\"CRIMINAL TRESPASS\", True),\n",
        "      (\"WEAPONS VIOLATION\", True),\n",
        "      (\"PROSTITUTION\", False),\n",
        "      (\"OFFENSE INVOLVING CHILDREN\", True),\n",
        "      (\"PUBLIC PEACE VIOLATION\", True),\n",
        "      (\"SEX OFFENSE\", True),\n",
        "      (\"CRIM SEXUAL ASSAULT\", True),\n",
        "      (\"INTERFERENCE WITH PUBLIC OFFICER\", True),\n",
        "      (\"LIQUOR LAW VIOLATION\", False),\n",
        "      (\"GAMBLING\", False),\n",
        "      (\"ARSON\", True),\n",
        "      (\"HOMICIDE\", True),\n",
        "      (\"CRIMINAL SEXUAL ASSAULT\", True),\n",
        "      (\"KIDNAPPING\", True),\n",
        "      (\"STALKING\", True),\n",
        "      (\"INTIMIDATION\", True),\n",
        "      (\"CONCEALED CARRY LICENSE VIOLATION\", True),\n",
        "      (\"OBSCENITY\", False),\n",
        "      (\"PUBLIC INDECENCY\", True),\n",
        "      (\"NON-CRIMINAL\", False),\n",
        "      (\"OTHER NARCOTIC VIOLATION\", False),\n",
        "      (\"HUMAN TRAFFICKING\", True),\n",
        "      (\"NON - CRIMINAL\", False),\n",
        "      (\"RITUALISM\", False),\n",
        "      (\"NON-CRIMINAL (SUBJECT SPECIFIED)\", False),\n",
        "      (\"DOMESTIC VIOLENCE\", True)\n",
        "  ]\n",
        "  Violent_Crimes = set()\n",
        "  for crime in CrimeMapping:\n",
        "    if crime[1]:\n",
        "      Violent_Crimes.add(crime[0])"
      ]
    },
    {
      "cell_type": "code",
      "execution_count": 17,
      "metadata": {
        "id": "2BNvCVhIv3Ro"
      },
      "outputs": [],
      "source": [
        "if preprocessing_pending:\n",
        "  parqued_df.count()"
      ]
    },
    {
      "cell_type": "markdown",
      "metadata": {
        "id": "RCbGucZd_E_T"
      },
      "source": [
        "- First,we renamed the column **Primary Type** to Primary_Type for easier calling\n",
        "- We re-classified some Primary_Type crime values to more general classification for better exploration analysis\n",
        "  - The first 'when' clause checks if the \"Primary_Type\" is either 'CRIM SEXUAL ASSAULT' or 'PROSTITUTION'. If the condition is met, it assigns the value 'SEX OFFENSE' to the \"Primary_Type\" column.\n",
        "  - The second when clause checks if the \"Primary_Type\" is either 'WEAPONS VIOLATION' or 'INTERFERENCE WITH PUBLIC OFFICER'. If the condition is met, it assigns the value 'PUBLIC PEACE VIOLATION' to the \"Primary_Type\" column.\n",
        "  - The third when clause checks if the \"Primary_Type\" is 'ARSON'. If the condition is met, it assigns the value 'CRIMINAL TRESPASS' to the \"Primary_Type\" column.\n",
        "  - The otherwise clause is used as a fallback, so if none of the previous conditions are met, it keeps the original value of the \"Primary_Type\" column.\n",
        "- Added a new column ViolentCrime based on the Violent_Crimes mapping\n",
        "- Added week column based on Crime Date\n",
        "- Added day of week column based on Crime Date"
      ]
    },
    {
      "cell_type": "code",
      "execution_count": 18,
      "metadata": {
        "id": "VUci3ThtCdng"
      },
      "outputs": [],
      "source": [
        "if preprocessing_pending:\n",
        "  transformed_df = parqued_df.withColumnRenamed(\"Primary Type\",\"Primary_Type\")\n",
        "  transformed_df = transformed_df.withColumn(\"Primary_Type\",\n",
        "            when((col(\"Primary_Type\").isin ('CRIM SEXUAL ASSAULT','PROSTITUTION')) ,'SEX OFFENSE')\n",
        "            .when((col(\"Primary_Type\").isin('WEAPONS VIOLATION','INTERFERENCE WITH PUBLIC OFFICER')) ,'PUBLIC PEACE VIOLATION')\n",
        "            .when((col(\"Primary_Type\") == 'ARSON') ,'CRIMINAL TRESPASS')\n",
        "            .otherwise(col(\"Primary_Type\")))\n",
        "  transformed_df = transformed_df.withColumn(\"ViolentCrime\",\n",
        "            when((col(\"Primary_Type\").isin (Violent_Crimes)) ,\"Yes\")\n",
        "            .otherwise(\"No\"))\n",
        "  transformed_df=transformed_df.withColumn(\"Week\", weekofyear(col('date')))\n",
        "  transformed_df=transformed_df.withColumn(\"DayOfWeek\", dayofweek(col('date')))\n",
        "  transformed_df.printSchema()"
      ]
    },
    {
      "cell_type": "markdown",
      "metadata": {
        "id": "Li4tCxep73yz"
      },
      "source": [
        "Storing the preprocessed data in case of pending preprocessing"
      ]
    },
    {
      "cell_type": "code",
      "execution_count": 19,
      "metadata": {
        "id": "tqzBT4EuE65G"
      },
      "outputs": [],
      "source": [
        "%%capture\n",
        "if preprocessing_pending:\n",
        "  filtered_parquet_path = '/content/drive/MyDrive/CrimeInsightParquetFiltered/'\n",
        "  filtered_csv_path = '/content/drive/MyDrive/CrimeInsightCSVFiltered/'\n",
        "else:\n",
        "  gdown.download_folder('https://drive.google.com/drive/folders/1IyZXvNFs3NZ-TxWnDiEzB2-qgeOk9ygW')\n",
        "  filtered_parquet_path ='CrimeInsightParquetFiltered'"
      ]
    },
    {
      "cell_type": "markdown",
      "metadata": {
        "id": "9X_9AFkwApA-"
      },
      "source": [
        "We are using Tableau for exploratory analysis and parquet file are not well supported.So, we are creating one CSV file. coalesce(1) will reduce the partitions to 1 and we will have only file after writing completion."
      ]
    },
    {
      "cell_type": "code",
      "execution_count": 20,
      "metadata": {
        "id": "MPNumQN24zRe"
      },
      "outputs": [],
      "source": [
        "if preprocessing_pending:\n",
        "  transformed_df.coalesce(1).write.csv(filtered_csv_path,mode='overwrite',header = True)\n",
        "  transformed_df.printSchema()"
      ]
    },
    {
      "cell_type": "markdown",
      "metadata": {
        "id": "blyZqj22BNK3"
      },
      "source": [
        "For Predictive analysis, we will still use parquet, because it improves the performance"
      ]
    },
    {
      "cell_type": "markdown",
      "metadata": {
        "id": "saAQIHBEBZqM"
      },
      "source": [
        "- Dropping columns which are not required for predictive analysis\n",
        "- Dropping the rows with missing values"
      ]
    },
    {
      "cell_type": "code",
      "execution_count": 21,
      "metadata": {
        "id": "0S7vy8pFuB9H"
      },
      "outputs": [],
      "source": [
        "if preprocessing_pending:\n",
        "  drop_columns = ['ID','Case Number','FBI Code','Updated On','IUCR','X Coordinate','Y Coordinate','Arrest','Location','Domestic','Description','Block','Latitude','Longitude','District','Ward','COMMUNITY']\n",
        "  transformed_df = transformed_df.drop(*drop_columns)\n",
        "  transformed_df = transformed_df.na.drop()\n",
        "  transformed_df.write.parquet(filtered_parquet_path,mode='overwrite')"
      ]
    },
    {
      "cell_type": "markdown",
      "metadata": {
        "id": "IKlY7U_uBqXp"
      },
      "source": [
        "## Predictive Analysis"
      ]
    },
    {
      "cell_type": "code",
      "execution_count": 22,
      "metadata": {
        "id": "jPH-D7eFAfSU"
      },
      "outputs": [],
      "source": [
        "transformed_df = spark.read.parquet(filtered_parquet_path).repartition(6)"
      ]
    },
    {
      "cell_type": "code",
      "execution_count": 23,
      "metadata": {
        "colab": {
          "base_uri": "https://localhost:8080/"
        },
        "id": "rYj-YJ_24Ua9",
        "outputId": "f84514e6-5e6c-4ebd-a4b8-adf3127a5888"
      },
      "outputs": [
        {
          "output_type": "stream",
          "name": "stdout",
          "text": [
            "root\n",
            " |-- Date: timestamp (nullable = true)\n",
            " |-- Primary_Type: string (nullable = true)\n",
            " |-- Location Description: string (nullable = true)\n",
            " |-- Beat: string (nullable = true)\n",
            " |-- Community Area: integer (nullable = true)\n",
            " |-- Year: integer (nullable = true)\n",
            " |-- ViolentCrime: string (nullable = true)\n",
            " |-- Week: integer (nullable = true)\n",
            " |-- DayOfWeek: integer (nullable = true)\n",
            "\n"
          ]
        }
      ],
      "source": [
        "transformed_df.printSchema()"
      ]
    },
    {
      "cell_type": "markdown",
      "metadata": {
        "id": "d1lJKYu_IfYm"
      },
      "source": [
        "Indexing String columns so that models and correlation can run.\n",
        "StringIndexer allows us to use a feature transformer that encodes a string column of labels into numbers"
      ]
    },
    {
      "cell_type": "code",
      "execution_count": 24,
      "metadata": {
        "id": "WhLKPizvSK42"
      },
      "outputs": [],
      "source": [
        "string_columns = ['Primary_Type','Location Description','Beat','ViolentCrime']\n",
        "indexers = [StringIndexer(inputCol=column, outputCol= column+'_index').setHandleInvalid(\"skip\").fit(transformed_df) for column in string_columns ]\n",
        "pipeline = Pipeline(stages=indexers)\n",
        "transformed_df = pipeline.fit(transformed_df).transform(transformed_df)"
      ]
    },
    {
      "cell_type": "markdown",
      "metadata": {
        "id": "Jr-bOs_k8uL6"
      },
      "source": [
        "#### **Correlation Analysis**"
      ]
    },
    {
      "cell_type": "code",
      "execution_count": 25,
      "metadata": {
        "colab": {
          "base_uri": "https://localhost:8080/",
          "height": 588
        },
        "id": "0bMDPZ_wJfDO",
        "outputId": "f23e0569-e347-4ec5-e903-620bffdc796d"
      },
      "outputs": [
        {
          "output_type": "display_data",
          "data": {
            "text/plain": [
              "<Figure size 1600x500 with 2 Axes>"
            ],
            "image/png": "[encoded data removed]"
          },
          "metadata": {}
        }
      ],
      "source": [
        "def run_correlaton_analysis(transformed_df,string_columns):\n",
        "  t_df = transformed_df.drop(*string_columns)\n",
        "  # convert to vector column first\n",
        "  vector_col = \"corr_features\"\n",
        "  assembler = VectorAssembler(inputCols= t_df.columns, outputCol=vector_col)\n",
        "  df_vector = assembler.transform(t_df).select(vector_col)\n",
        "  # get correlation matrix\n",
        "  matrix = Correlation.corr(df_vector, vector_col)\n",
        "  corr_matrix = matrix.collect()[0][0].toArray().tolist()\n",
        "  corr_matrix_df = pd.DataFrame(data=corr_matrix, columns = t_df.columns, index=t_df.columns)\n",
        "  plt.figure(figsize=(16,5))\n",
        "  sns.heatmap(corr_matrix_df,\n",
        "              xticklabels=corr_matrix_df.columns.values,\n",
        "              yticklabels=corr_matrix_df.columns.values,  cmap=\"Greens\", annot=True)\n",
        "\n",
        "run_correlaton_analysis(transformed_df.drop('Date'),string_columns)"
      ]
    },
    {
      "cell_type": "markdown",
      "metadata": {
        "id": "wPfN96m1R9ER"
      },
      "source": [
        "As we can see from the plot that there are not strongly correlated features with ViolentCrime_index"
      ]
    },
    {
      "cell_type": "code",
      "execution_count": 26,
      "metadata": {
        "id": "sV20TrtuiJ3x"
      },
      "outputs": [],
      "source": [
        "LABEL_INPUT_COL  = 'ViolentCrime'\n",
        "LABEL_OUTPUT_COL ='indexedLabel'\n",
        "LABEL_CONV_INPUT_COL = 'prediction'\n",
        "LABEL_CONV_OUTPUT_COL = 'predictedLabel'\n",
        "FEATURES_OUTPUT_COL = 'features'\n",
        "FEATURE_INDEXER_OUTPUT_COL ='indexedFeatures'\n",
        "SPLIT_TYPE_YEAR = 'year'\n",
        "SPLIT_TYPE_RATIO = 'ratio'\n",
        "model_performances =[]"
      ]
    },
    {
      "cell_type": "markdown",
      "metadata": {
        "id": "2r4WGBY1JPbO"
      },
      "source": [
        "Indexing for labels\n",
        "- IndexToString convert numerical labels to their original string labels after the model has made its predictions"
      ]
    },
    {
      "cell_type": "code",
      "execution_count": 27,
      "metadata": {
        "id": "F7JdtUUWy0SR"
      },
      "outputs": [],
      "source": [
        "labelIndexer = StringIndexer(inputCol=LABEL_INPUT_COL, outputCol=LABEL_OUTPUT_COL).fit(transformed_df)\n",
        "labelConverter = IndexToString(inputCol=LABEL_CONV_INPUT_COL, outputCol=LABEL_CONV_OUTPUT_COL,\n",
        "                              labels=labelIndexer.labels)"
      ]
    },
    {
      "cell_type": "markdown",
      "metadata": {
        "id": "hOmlqsK6NYGt"
      },
      "source": [
        "Train Test Data Spliting function based on year"
      ]
    },
    {
      "cell_type": "code",
      "execution_count": 28,
      "metadata": {
        "id": "33ogg3v4nP-z"
      },
      "outputs": [],
      "source": [
        "def split_data_based_on_year(df):\n",
        "  trainingData = df.filter(\"year(date)!=2023\")\n",
        "  testData = df.filter(\"year(date)=2023\")\n",
        "  return trainingData,testData"
      ]
    },
    {
      "cell_type": "markdown",
      "metadata": {
        "id": "UnLYVzHYOBz-"
      },
      "source": [
        "Train Test Data splitting function\n",
        "- We will run try our model using both approaches\n",
        "  - Splitting train and test data by year. We will keep the 2023 year data as test data and remaining as training data\n",
        "  - Splitting train and test data by ratio"
      ]
    },
    {
      "cell_type": "code",
      "execution_count": 29,
      "metadata": {
        "id": "nnqkAQxGdTqc"
      },
      "outputs": [],
      "source": [
        "def get_train_test_split(df,split_type):\n",
        "  if split_type == SPLIT_TYPE_YEAR:\n",
        "    trainingData, testData = split_data_based_on_year(df)\n",
        "  elif split_type ==SPLIT_TYPE_RATIO:\n",
        "    # Splitting the data into a training and a testing set with a ratio of 0.9 to 0.1\n",
        "    (trainingData, testData) = df.randomSplit([0.9, 0.1])\n",
        "  else:\n",
        "    raise Exception(\"Wrong split_type {}\".format(split_type))\n",
        "  print(\"Running the ML Flow For {} Type Split\".format(split_type.title()))\n",
        "  return trainingData, testData"
      ]
    },
    {
      "cell_type": "markdown",
      "metadata": {
        "id": "0_fUWOdoNd9n"
      },
      "source": [
        "Features creating function. To fit data into the vectors\n",
        "- VectorAssembler will allow us to transform our input data in vector format.\n",
        "- These feature vectores will be used to train the model"
      ]
    },
    {
      "cell_type": "code",
      "execution_count": 30,
      "metadata": {
        "id": "YwIYJUGczHQK"
      },
      "outputs": [],
      "source": [
        "def create_features(cols,df):\n",
        "  vector_assembler = VectorAssembler(inputCols = cols, outputCol=FEATURES_OUTPUT_COL)\n",
        "  vector_assembled_df = vector_assembler.transform(df)\n",
        "  featureIndexer =  VectorIndexer(inputCol=FEATURES_OUTPUT_COL, outputCol=FEATURE_INDEXER_OUTPUT_COL).fit(vector_assembled_df)\n",
        "  return vector_assembled_df,featureIndexer"
      ]
    },
    {
      "cell_type": "markdown",
      "metadata": {
        "id": "FeNwVeRGNmG0"
      },
      "source": [
        "Model Training and prediction generating function"
      ]
    },
    {
      "cell_type": "code",
      "execution_count": 31,
      "metadata": {
        "id": "AMvazY47zImw"
      },
      "outputs": [],
      "source": [
        "def train_model_and_get_predictions(classifier,featureIndexer,trainingData,testData):\n",
        "  # Pipeline used to develop a machine learning pipeline that includes label indexing, feature indexing, classiying and label conversion\n",
        "  pipeline = Pipeline(stages=[labelIndexer, featureIndexer, classifier,labelConverter])\n",
        "  # Fit the pipeline with the training and transform the testing data\n",
        "  model = pipeline.fit(trainingData)\n",
        "  predictions = model.transform(testData)\n",
        "  return predictions"
      ]
    },
    {
      "cell_type": "markdown",
      "metadata": {
        "id": "rpkCsbN7NuIw"
      },
      "source": [
        "Getting Prediction Scores.\n",
        "- MulticlassClassificationEvaluator used to evaluate the performance of the models\n",
        "- We will use both F-1 and Accuracy to evaluate the performance"
      ]
    },
    {
      "cell_type": "code",
      "execution_count": 32,
      "metadata": {
        "id": "z740VHiwzMVj"
      },
      "outputs": [],
      "source": [
        "def get_scores(predictions,model_name,feature_cols,split_type):\n",
        "  evaluator = MulticlassClassificationEvaluator(\n",
        "      labelCol=LABEL_OUTPUT_COL, predictionCol=LABEL_CONV_INPUT_COL, metricName=\"accuracy\")\n",
        "\n",
        "  evaluator2 = MulticlassClassificationEvaluator(\n",
        "      labelCol=LABEL_OUTPUT_COL, predictionCol=LABEL_CONV_INPUT_COL, metricName=\"f1\")\n",
        "  accuracy = evaluator.evaluate(predictions)\n",
        "  f1 = evaluator2.evaluate(predictions)\n",
        "  print(\"{} accuracy = {}\".format (model_name,accuracy))\n",
        "  print(\"{} f1 score = {}\".format(model_name,f1))\n",
        "  model_performances.append({'f1':f1,'accuracy':accuracy,'model_name':model_name,'features':feature_cols,'split_type':split_type})"
      ]
    },
    {
      "cell_type": "markdown",
      "metadata": {
        "id": "nJoe5riwOM7s"
      },
      "source": [
        "ML Flow function. This is the main function for ml flow.\n",
        "- It runs feature generation function\n",
        "- It runs the data splitting function\n",
        "- It runs the model training and prediction generating function\n",
        "- It gets the final evaluation scores"
      ]
    },
    {
      "cell_type": "code",
      "execution_count": 33,
      "metadata": {
        "id": "lB5PqDE1zPAb"
      },
      "outputs": [],
      "source": [
        "def run_ml_flow(classifier,feature_cols,df,split_type):\n",
        "  vector_assembled_df,featureIndexer = create_features(feature_cols,df)\n",
        "  trainingData,testData = get_train_test_split(vector_assembled_df,split_type)\n",
        "  predictions = train_model_and_get_predictions(classifier,featureIndexer,trainingData,testData)\n",
        "  model_name = type(classifier).__name__\n",
        "  get_scores(predictions,model_name,feature_cols,split_type)"
      ]
    },
    {
      "cell_type": "markdown",
      "metadata": {
        "id": "QECbSuTcOYwi"
      },
      "source": [
        "Model Hyperparameter Tuning Function\n",
        "- CrossValidator (to perform cross-validation)\n",
        "- ParamGridBuilder (to build a grid of hyperparameters)\n",
        "\n",
        "\n",
        "**Tune hyperparameters using cross-validation to find the best-performing model by trying different combinations. This will allow us to optimize the model's performance and improve upon the previous results**"
      ]
    },
    {
      "cell_type": "code",
      "execution_count": 34,
      "metadata": {
        "id": "TsgcgdbNc8L1"
      },
      "outputs": [],
      "source": [
        "def hyper_param_tuning(classifier,feature_cols,df,split_type,paramGrid,num_folds=3):\n",
        "  vector_assembled_df,featureIndexer = create_features(feature_cols,df)\n",
        "  trainingData,testData = get_train_test_split(vector_assembled_df,split_type)\n",
        "  pipeline = Pipeline(stages=[labelIndexer, featureIndexer, classifier,labelConverter])\n",
        "  evaluator = MulticlassClassificationEvaluator( labelCol=LABEL_OUTPUT_COL, predictionCol=LABEL_CONV_INPUT_COL, metricName=\"f1\")\n",
        "  crossval = CrossValidator(estimator=pipeline,\\\n",
        "                         estimatorParamMaps=paramGrid,\\\n",
        "                         evaluator=evaluator,\\\n",
        "                         numFolds=num_folds)\n",
        "  model = crossval.fit(trainingData)\n",
        "  predictions = model.transform(testData)\n",
        "  model_name = type(classifier).__name__\n",
        "  get_scores(predictions,model_name,feature_cols,split_type)\n",
        "  bestPipeline = model.bestModel\n",
        "  bestModel = bestPipeline.stages[2]\n",
        "  bestParams = bestModel.extractParamMap()\n",
        "  print(\"\\n\".join(\"{}\\t{}\".format(k, v) for k, v in bestParams.items()))\n",
        "  return bestModel"
      ]
    },
    {
      "cell_type": "markdown",
      "metadata": {
        "id": "aKv-ZoISJdHD"
      },
      "source": [
        "### **Features Performance Exploration**"
      ]
    },
    {
      "cell_type": "markdown",
      "metadata": {
        "id": "1IoSQivCJlqL"
      },
      "source": [
        "#### **Prediction of Violent Crime using Time based features**"
      ]
    },
    {
      "cell_type": "code",
      "execution_count": 35,
      "metadata": {
        "id": "inhf7s0vJf_k"
      },
      "outputs": [],
      "source": [
        "feature_time_cols=[\"Week\",'DayOfWeek']\n",
        "rf  = RandomForestClassifier(labelCol=LABEL_OUTPUT_COL,\n",
        "                             featuresCol=FEATURE_INDEXER_OUTPUT_COL,\n",
        "                             numTrees=100,impurity='gini', maxBins=128)\n"
      ]
    },
    {
      "cell_type": "code",
      "execution_count": 36,
      "metadata": {
        "colab": {
          "base_uri": "https://localhost:8080/"
        },
        "id": "wXivW6ZKJrRB",
        "outputId": "e85ef156-5935-431f-9142-73e1ae814df5"
      },
      "outputs": [
        {
          "output_type": "stream",
          "name": "stdout",
          "text": [
            "Running the ML Flow For Year Type Split\n",
            "RandomForestClassifier accuracy = 0.5191734516916022\n",
            "RandomForestClassifier f1 score = 0.48822883850942195\n"
          ]
        }
      ],
      "source": [
        "run_ml_flow(rf,feature_time_cols,transformed_df,SPLIT_TYPE_YEAR)"
      ]
    },
    {
      "cell_type": "code",
      "execution_count": 37,
      "metadata": {
        "colab": {
          "base_uri": "https://localhost:8080/"
        },
        "id": "H_kdxqGyJuQa",
        "outputId": "86c12c9b-87a6-47e3-a512-dd912f6d041b"
      },
      "outputs": [
        {
          "output_type": "stream",
          "name": "stdout",
          "text": [
            "Running the ML Flow For Ratio Type Split\n",
            "RandomForestClassifier accuracy = 0.5324333500797757\n",
            "RandomForestClassifier f1 score = 0.49721204351205184\n"
          ]
        }
      ],
      "source": [
        "run_ml_flow(rf,feature_time_cols,transformed_df,SPLIT_TYPE_RATIO)"
      ]
    },
    {
      "cell_type": "markdown",
      "metadata": {
        "id": "MOoxX2yaJwcR"
      },
      "source": [
        "#### **Prediction of Violent Crime using Location based features**"
      ]
    },
    {
      "cell_type": "code",
      "execution_count": 38,
      "metadata": {
        "id": "dHkQJTVDJ3qb"
      },
      "outputs": [],
      "source": [
        "feature_loc_cols=['Beat_index','Location Description_index','Community Area']\n",
        "rf_loc = RandomForestClassifier(labelCol=LABEL_OUTPUT_COL, featuresCol=FEATURE_INDEXER_OUTPUT_COL, numTrees=10,impurity='gini',maxBins=320)"
      ]
    },
    {
      "cell_type": "code",
      "execution_count": 39,
      "metadata": {
        "colab": {
          "base_uri": "https://localhost:8080/"
        },
        "id": "bcMCFue9J-M1",
        "outputId": "12afd03d-9c98-42e8-cf19-69b4fd4c837c"
      },
      "outputs": [
        {
          "output_type": "stream",
          "name": "stdout",
          "text": [
            "Running the ML Flow For Year Type Split\n",
            "RandomForestClassifier accuracy = 0.5856265247935099\n",
            "RandomForestClassifier f1 score = 0.5728935100659055\n"
          ]
        }
      ],
      "source": [
        "run_ml_flow(rf_loc,feature_loc_cols,transformed_df,SPLIT_TYPE_YEAR)"
      ]
    },
    {
      "cell_type": "code",
      "execution_count": 40,
      "metadata": {
        "colab": {
          "base_uri": "https://localhost:8080/"
        },
        "id": "PT7xFzLfKAOe",
        "outputId": "4545545d-4d08-4eeb-e354-dd15614552f1"
      },
      "outputs": [
        {
          "output_type": "stream",
          "name": "stdout",
          "text": [
            "Running the ML Flow For Ratio Type Split\n",
            "RandomForestClassifier accuracy = 0.5851412648506205\n",
            "RandomForestClassifier f1 score = 0.5785276546163834\n"
          ]
        }
      ],
      "source": [
        "run_ml_flow(rf_loc,feature_loc_cols,transformed_df,SPLIT_TYPE_RATIO)"
      ]
    },
    {
      "cell_type": "markdown",
      "metadata": {
        "id": "Q0jr3COrJzP5"
      },
      "source": [
        "### **Model Training Using Final Features**"
      ]
    },
    {
      "cell_type": "markdown",
      "metadata": {
        "id": "HVinA8FxKCW-"
      },
      "source": [
        "#### **Logistic Regression Model Performance**"
      ]
    },
    {
      "cell_type": "code",
      "execution_count": 41,
      "metadata": {
        "id": "AKp_B37JF_2v"
      },
      "outputs": [],
      "source": [
        "final_feature_columns= feature_loc_cols + feature_time_cols\n",
        "lr = LogisticRegression(labelCol=LABEL_OUTPUT_COL, featuresCol=FEATURE_INDEXER_OUTPUT_COL, maxIter=10)"
      ]
    },
    {
      "cell_type": "code",
      "execution_count": 42,
      "metadata": {
        "colab": {
          "base_uri": "https://localhost:8080/"
        },
        "id": "G_dO41NSGONW",
        "outputId": "6596c069-bbb0-4418-c05e-0e298c7f95f7"
      },
      "outputs": [
        {
          "output_type": "stream",
          "name": "stdout",
          "text": [
            "Running the ML Flow For Year Type Split\n",
            "LogisticRegression accuracy = 0.5300549660503806\n",
            "LogisticRegression f1 score = 0.5135680839262629\n"
          ]
        }
      ],
      "source": [
        "run_ml_flow(lr,final_feature_columns,transformed_df,SPLIT_TYPE_YEAR)"
      ]
    },
    {
      "cell_type": "code",
      "execution_count": 43,
      "metadata": {
        "colab": {
          "base_uri": "https://localhost:8080/"
        },
        "id": "Xz2qCbpmGQBh",
        "outputId": "ac45a983-fa92-479f-8997-1259c3a21b5e"
      },
      "outputs": [
        {
          "output_type": "stream",
          "name": "stdout",
          "text": [
            "Running the ML Flow For Ratio Type Split\n",
            "LogisticRegression accuracy = 0.5388888659142946\n",
            "LogisticRegression f1 score = 0.5292823841370364\n"
          ]
        }
      ],
      "source": [
        "run_ml_flow(lr,final_feature_columns,transformed_df,SPLIT_TYPE_RATIO)"
      ]
    },
    {
      "cell_type": "markdown",
      "metadata": {
        "id": "mVAfyp-2KI3M"
      },
      "source": [
        "#### **Random Forest Model Performance**"
      ]
    },
    {
      "cell_type": "code",
      "execution_count": 44,
      "metadata": {
        "id": "XmmhU5_nNH6o"
      },
      "outputs": [],
      "source": [
        "rf_all = RandomForestClassifier(labelCol=LABEL_OUTPUT_COL, featuresCol=FEATURE_INDEXER_OUTPUT_COL, numTrees=10,impurity='gini',maxBins=320)"
      ]
    },
    {
      "cell_type": "code",
      "execution_count": 45,
      "metadata": {
        "colab": {
          "base_uri": "https://localhost:8080/"
        },
        "id": "RkjqF2WBNKie",
        "outputId": "89a58d00-254b-465d-d91e-f9604c237d2c"
      },
      "outputs": [
        {
          "output_type": "stream",
          "name": "stdout",
          "text": [
            "Running the ML Flow For Year Type Split\n",
            "RandomForestClassifier accuracy = 0.5744687105023368\n",
            "RandomForestClassifier f1 score = 0.5575954773156885\n"
          ]
        }
      ],
      "source": [
        "run_ml_flow(rf_all,final_feature_columns,transformed_df,SPLIT_TYPE_YEAR)"
      ]
    },
    {
      "cell_type": "code",
      "execution_count": 46,
      "metadata": {
        "colab": {
          "base_uri": "https://localhost:8080/"
        },
        "id": "fVn51TNuNNpE",
        "outputId": "9c327e54-d835-4f86-fe94-7f05380490e6"
      },
      "outputs": [
        {
          "output_type": "stream",
          "name": "stdout",
          "text": [
            "Running the ML Flow For Ratio Type Split\n",
            "RandomForestClassifier accuracy = 0.582914849187616\n",
            "RandomForestClassifier f1 score = 0.5707507663467842\n"
          ]
        }
      ],
      "source": [
        "run_ml_flow(rf_all,final_feature_columns,transformed_df,SPLIT_TYPE_RATIO)"
      ]
    },
    {
      "cell_type": "markdown",
      "metadata": {
        "id": "ohgcjDCzKnA6"
      },
      "source": [
        "#### **Gradient Boost Model Performance**"
      ]
    },
    {
      "cell_type": "markdown",
      "metadata": {
        "id": "vRXrDe-EEZU7"
      },
      "source": [
        "The 'maxBins' parameter specifies the maximum number of bins that can be used for splitting on a feature. For categorical features, we need at least as many bins as there are categories.\n",
        "\n",
        "The Gradient-Boosted Trees (GBT) algorithm in PySpark requires that the 'maxBins' parameter be at least as large as the number of values in the most populous categorical feature. In our case, there is a categorical feature with 304 distinct values, so we will need to increase 'maxBins' to be at least 304."
      ]
    },
    {
      "cell_type": "code",
      "execution_count": 47,
      "metadata": {
        "id": "QwmH2lNoM7w-"
      },
      "outputs": [],
      "source": [
        "gbt = GBTClassifier(labelCol=LABEL_OUTPUT_COL, featuresCol=FEATURE_INDEXER_OUTPUT_COL, maxIter=2, maxBins=320)"
      ]
    },
    {
      "cell_type": "code",
      "execution_count": 48,
      "metadata": {
        "colab": {
          "base_uri": "https://localhost:8080/"
        },
        "id": "xbGpGoI0HG-N",
        "outputId": "da8c3be3-bb19-4de4-fe6e-5a95a2e7fc49"
      },
      "outputs": [
        {
          "output_type": "stream",
          "name": "stdout",
          "text": [
            "Running the ML Flow For Year Type Split\n",
            "GBTClassifier accuracy = 0.6144322624261486\n",
            "GBTClassifier f1 score = 0.6126165800018003\n"
          ]
        }
      ],
      "source": [
        "run_ml_flow(gbt,final_feature_columns,transformed_df,SPLIT_TYPE_YEAR)"
      ]
    },
    {
      "cell_type": "code",
      "execution_count": 49,
      "metadata": {
        "colab": {
          "base_uri": "https://localhost:8080/"
        },
        "id": "ujtgGb3hHIUV",
        "outputId": "e5e6e516-e44b-4dd3-b130-e9ff5e295ef0"
      },
      "outputs": [
        {
          "output_type": "stream",
          "name": "stdout",
          "text": [
            "Running the ML Flow For Ratio Type Split\n",
            "GBTClassifier accuracy = 0.6106793486108952\n",
            "GBTClassifier f1 score = 0.6065743627172233\n"
          ]
        }
      ],
      "source": [
        "run_ml_flow(gbt,final_feature_columns,transformed_df,SPLIT_TYPE_RATIO)"
      ]
    },
    {
      "cell_type": "markdown",
      "metadata": {
        "id": "CVuIjivmKr7a"
      },
      "source": [
        "### **Hyperparameter Tuning of Gradient Boost Model**"
      ]
    },
    {
      "cell_type": "code",
      "execution_count": 50,
      "metadata": {
        "id": "Nt8YaDKgdq7O"
      },
      "outputs": [],
      "source": [
        "gbt_not_tuned = GBTClassifier(labelCol=LABEL_OUTPUT_COL, featuresCol=FEATURE_INDEXER_OUTPUT_COL)\n",
        "paramGrid = ParamGridBuilder()\\\n",
        "            .addGrid(gbt_not_tuned.maxBins, [320]) \\\n",
        "            .addGrid(gbt_not_tuned.maxIter,[2,4])\\\n",
        "            .addGrid(gbt_not_tuned.stepSize,[0.1, 0.2])\\\n",
        "            .build()"
      ]
    },
    {
      "cell_type": "code",
      "execution_count": 51,
      "metadata": {
        "colab": {
          "base_uri": "https://localhost:8080/"
        },
        "id": "08l69cT_eneI",
        "outputId": "6187dcb1-b5d9-4b21-f254-a474c2ace91e"
      },
      "outputs": [
        {
          "output_type": "stream",
          "name": "stdout",
          "text": [
            "Running the ML Flow For Year Type Split\n",
            "GBTClassifier accuracy = 0.6143617177625584\n",
            "GBTClassifier f1 score = 0.6137179677221274\n",
            "GBTClassifier_8c86f8a072c5__cacheNodeIds\tFalse\n",
            "GBTClassifier_8c86f8a072c5__checkpointInterval\t10\n",
            "GBTClassifier_8c86f8a072c5__featureSubsetStrategy\tall\n",
            "GBTClassifier_8c86f8a072c5__featuresCol\tindexedFeatures\n",
            "GBTClassifier_8c86f8a072c5__impurity\tvariance\n",
            "GBTClassifier_8c86f8a072c5__labelCol\tindexedLabel\n",
            "GBTClassifier_8c86f8a072c5__leafCol\t\n",
            "GBTClassifier_8c86f8a072c5__lossType\tlogistic\n",
            "GBTClassifier_8c86f8a072c5__maxBins\t320\n",
            "GBTClassifier_8c86f8a072c5__maxDepth\t5\n",
            "GBTClassifier_8c86f8a072c5__maxIter\t4\n",
            "GBTClassifier_8c86f8a072c5__maxMemoryInMB\t256\n",
            "GBTClassifier_8c86f8a072c5__minInfoGain\t0.0\n",
            "GBTClassifier_8c86f8a072c5__minInstancesPerNode\t1\n",
            "GBTClassifier_8c86f8a072c5__minWeightFractionPerNode\t0.0\n",
            "GBTClassifier_8c86f8a072c5__predictionCol\tprediction\n",
            "GBTClassifier_8c86f8a072c5__probabilityCol\tprobability\n",
            "GBTClassifier_8c86f8a072c5__rawPredictionCol\trawPrediction\n",
            "GBTClassifier_8c86f8a072c5__seed\t-3399763156398550315\n",
            "GBTClassifier_8c86f8a072c5__stepSize\t0.2\n",
            "GBTClassifier_8c86f8a072c5__subsamplingRate\t1.0\n",
            "GBTClassifier_8c86f8a072c5__validationTol\t0.01\n"
          ]
        }
      ],
      "source": [
        "gbt_tuned_yr = hyper_param_tuning(gbt_not_tuned,final_feature_columns,transformed_df,SPLIT_TYPE_YEAR,paramGrid)"
      ]
    },
    {
      "cell_type": "code",
      "execution_count": 52,
      "metadata": {
        "colab": {
          "base_uri": "https://localhost:8080/"
        },
        "id": "ar2E3FBXemoB",
        "outputId": "345808ed-0f2b-4884-fe4e-8083869737c0"
      },
      "outputs": [
        {
          "output_type": "stream",
          "name": "stdout",
          "text": [
            "Running the ML Flow For Ratio Type Split\n",
            "GBTClassifier accuracy = 0.6119839456656468\n",
            "GBTClassifier f1 score = 0.6107614819514917\n",
            "GBTClassifier_8c86f8a072c5__cacheNodeIds\tFalse\n",
            "GBTClassifier_8c86f8a072c5__checkpointInterval\t10\n",
            "GBTClassifier_8c86f8a072c5__featureSubsetStrategy\tall\n",
            "GBTClassifier_8c86f8a072c5__featuresCol\tindexedFeatures\n",
            "GBTClassifier_8c86f8a072c5__impurity\tvariance\n",
            "GBTClassifier_8c86f8a072c5__labelCol\tindexedLabel\n",
            "GBTClassifier_8c86f8a072c5__leafCol\t\n",
            "GBTClassifier_8c86f8a072c5__lossType\tlogistic\n",
            "GBTClassifier_8c86f8a072c5__maxBins\t320\n",
            "GBTClassifier_8c86f8a072c5__maxDepth\t5\n",
            "GBTClassifier_8c86f8a072c5__maxIter\t4\n",
            "GBTClassifier_8c86f8a072c5__maxMemoryInMB\t256\n",
            "GBTClassifier_8c86f8a072c5__minInfoGain\t0.0\n",
            "GBTClassifier_8c86f8a072c5__minInstancesPerNode\t1\n",
            "GBTClassifier_8c86f8a072c5__minWeightFractionPerNode\t0.0\n",
            "GBTClassifier_8c86f8a072c5__predictionCol\tprediction\n",
            "GBTClassifier_8c86f8a072c5__probabilityCol\tprobability\n",
            "GBTClassifier_8c86f8a072c5__rawPredictionCol\trawPrediction\n",
            "GBTClassifier_8c86f8a072c5__seed\t-3399763156398550315\n",
            "GBTClassifier_8c86f8a072c5__stepSize\t0.2\n",
            "GBTClassifier_8c86f8a072c5__subsamplingRate\t1.0\n",
            "GBTClassifier_8c86f8a072c5__validationTol\t0.01\n"
          ]
        }
      ],
      "source": [
        "gbt_tuned_rt = hyper_param_tuning(gbt_not_tuned,final_feature_columns,transformed_df,SPLIT_TYPE_RATIO,paramGrid)"
      ]
    },
    {
      "cell_type": "markdown",
      "source": [
        "### Model Performance Comparison"
      ],
      "metadata": {
        "id": "NDIPzw7VhmgN"
      }
    },
    {
      "cell_type": "code",
      "source": [
        "def get_feature_type(feature):\n",
        "  if feature == 'Week,DayOfWeek':\n",
        "    return 'Time Features'\n",
        "  elif feature == 'Beat_index,Location Description_index,Community Area':\n",
        "    return 'Location Features'\n",
        "  elif feature == 'Beat_index,Location Description_index,Community Area,Week,DayOfWeek':\n",
        "    return 'Time+Location Features'\n",
        "  else:\n",
        "    raise Exception(\"Wrong feature type\")"
      ],
      "metadata": {
        "id": "1JKv3F6vefIu"
      },
      "execution_count": 312,
      "outputs": []
    },
    {
      "cell_type": "code",
      "source": [
        "def get_model_short(model_name):\n",
        "  if model_name =='RandomForestClassifier':\n",
        "    return 'RFC'\n",
        "  elif model_name =='LogisticRegression':\n",
        "    return 'LR'\n",
        "  elif model_name =='GBTClassifier':\n",
        "    return 'GBT'\n",
        "  else:\n",
        "    raise Exception(\"Wrong Model type\")"
      ],
      "metadata": {
        "id": "KIGyNE5pfkpE"
      },
      "execution_count": 313,
      "outputs": []
    },
    {
      "cell_type": "code",
      "source": [
        "def show_model_performance(df, split_type):\n",
        "  np.random_seed=43\n",
        "  fig, ax = plt.subplots(figsize=(10, 7))\n",
        "  ax.set_facecolor('black')\n",
        "  fig.set_facecolor('black')\n",
        "  df['label'] = df['model_label'] + \" - \" + df['feature_type'].astype(str)\n",
        "  colors = ['red','green','cyan','orange','pink']\n",
        "  for index, row in df.iterrows():\n",
        "      label = row['label']\n",
        "      color = colors[index]\n",
        "      ax.scatter(row['f1'], row['accuracy'], marker='o', label=label,color=color)\n",
        "      ax.text(row['f1'], row['accuracy'], '{0:.2g}'.format(row['f1']),size=14,color=color)\n",
        "  ax.plot(df['f1'], df['accuracy'], linestyle='-')\n",
        "  ax.set_xlabel('F1 Score',size=14)\n",
        "  ax.set_ylabel('Accuracy',size=14)\n",
        "  ax.set_title('Model Accuracy and F1 Score - For Split Type {}'.format(split_type.title()),color='#dddddd',size=15)\n",
        "  ax.tick_params(axis='x', colors='#dddddd')\n",
        "  ax.tick_params(axis='y', colors='#dddddd')\n",
        "  ax.yaxis.label.set_color('#dddddd')\n",
        "  ax.xaxis.label.set_color('#dddddd')\n",
        "  ax.spines['bottom'].set_color('#dddddd')\n",
        "  ax.spines['left'].set_color('#dddddd')\n",
        "  ax.legend()\n",
        "  plt.tight_layout()\n",
        "  plt.show()\n"
      ],
      "metadata": {
        "id": "yRrWiXNsZkrO"
      },
      "execution_count": 314,
      "outputs": []
    },
    {
      "cell_type": "markdown",
      "source": [
        "Transforming the model performance data for better visualization"
      ],
      "metadata": {
        "id": "KbTzT7VzlJpH"
      }
    },
    {
      "cell_type": "code",
      "source": [
        "model_performances_df = pd.DataFrame(model_performances)\n",
        "model_performances_df['features'] = model_performances_df['features'].apply(lambda x: \",\".join(x))\n",
        "max_ids = model_performances_df.groupby([\"model_name\",'features',\"split_type\"])['f1'].idxmax().sort_values()\n",
        "max_model_performances_df=model_performances_df.loc[max_ids].reset_index().drop('index',axis=1)\n",
        "max_model_performances_df['feature_type'] = max_model_performances_df['features'].apply(get_feature_type)\n",
        "max_model_performances_df['model_label'] = max_model_performances_df['model_name'].apply(get_model_short)"
      ],
      "metadata": {
        "id": "HBGDrvRHkDup"
      },
      "execution_count": 315,
      "outputs": []
    },
    {
      "cell_type": "code",
      "source": [
        "max_model_performances_df"
      ],
      "metadata": {
        "colab": {
          "base_uri": "https://localhost:8080/",
          "height": 363
        },
        "id": "MxyyUimmff2A",
        "outputId": "f8de7c95-c274-4b67-c4dc-d210a7f0d45a"
      },
      "execution_count": 316,
      "outputs": [
        {
          "output_type": "execute_result",
          "data": {
            "text/plain": [
              "         f1  accuracy              model_name  \\\n",
              "0  0.488229  0.519173  RandomForestClassifier   \n",
              "1  0.497212  0.532433  RandomForestClassifier   \n",
              "2  0.572894  0.585627  RandomForestClassifier   \n",
              "3  0.578528  0.585141  RandomForestClassifier   \n",
              "4  0.513568  0.530055      LogisticRegression   \n",
              "5  0.529282  0.538889      LogisticRegression   \n",
              "6  0.557595  0.574469  RandomForestClassifier   \n",
              "7  0.570751  0.582915  RandomForestClassifier   \n",
              "8  0.613718  0.614362           GBTClassifier   \n",
              "9  0.610761  0.611984           GBTClassifier   \n",
              "\n",
              "                                            features split_type  \\\n",
              "0                                     Week,DayOfWeek       year   \n",
              "1                                     Week,DayOfWeek      ratio   \n",
              "2  Beat_index,Location Description_index,Communit...       year   \n",
              "3  Beat_index,Location Description_index,Communit...      ratio   \n",
              "4  Beat_index,Location Description_index,Communit...       year   \n",
              "5  Beat_index,Location Description_index,Communit...      ratio   \n",
              "6  Beat_index,Location Description_index,Communit...       year   \n",
              "7  Beat_index,Location Description_index,Communit...      ratio   \n",
              "8  Beat_index,Location Description_index,Communit...       year   \n",
              "9  Beat_index,Location Description_index,Communit...      ratio   \n",
              "\n",
              "             feature_type model_label  \n",
              "0           Time Features         RFC  \n",
              "1           Time Features         RFC  \n",
              "2       Location Features         RFC  \n",
              "3       Location Features         RFC  \n",
              "4  Time+Location Features          LR  \n",
              "5  Time+Location Features          LR  \n",
              "6  Time+Location Features         RFC  \n",
              "7  Time+Location Features         RFC  \n",
              "8  Time+Location Features         GBT  \n",
              "9  Time+Location Features         GBT  "
            ],
            "text/html": [
              "\n",
              "  <div id=\"df-d744f567-c3c8-4e6e-9de1-6868a369ae79\" class=\"colab-df-container\">\n",
              "    <div>\n",
              "<style scoped>\n",
              "    .dataframe tbody tr th:only-of-type {\n",
              "        vertical-align: middle;\n",
              "    }\n",
              "\n",
              "    .dataframe tbody tr th {\n",
              "        vertical-align: top;\n",
              "    }\n",
              "\n",
              "    .dataframe thead th {\n",
              "        text-align: right;\n",
              "    }\n",
              "</style>\n",
              "<table border=\"1\" class=\"dataframe\">\n",
              "  <thead>\n",
              "    <tr style=\"text-align: right;\">\n",
              "      <th></th>\n",
              "      <th>f1</th>\n",
              "      <th>accuracy</th>\n",
              "      <th>model_name</th>\n",
              "      <th>features</th>\n",
              "      <th>split_type</th>\n",
              "      <th>feature_type</th>\n",
              "      <th>model_label</th>\n",
              "    </tr>\n",
              "  </thead>\n",
              "  <tbody>\n",
              "    <tr>\n",
              "      <th>0</th>\n",
              "      <td>0.488229</td>\n",
              "      <td>0.519173</td>\n",
              "      <td>RandomForestClassifier</td>\n",
              "      <td>Week,DayOfWeek</td>\n",
              "      <td>year</td>\n",
              "      <td>Time Features</td>\n",
              "      <td>RFC</td>\n",
              "    </tr>\n",
              "    <tr>\n",
              "      <th>1</th>\n",
              "      <td>0.497212</td>\n",
              "      <td>0.532433</td>\n",
              "      <td>RandomForestClassifier</td>\n",
              "      <td>Week,DayOfWeek</td>\n",
              "      <td>ratio</td>\n",
              "      <td>Time Features</td>\n",
              "      <td>RFC</td>\n",
              "    </tr>\n",
              "    <tr>\n",
              "      <th>2</th>\n",
              "      <td>0.572894</td>\n",
              "      <td>0.585627</td>\n",
              "      <td>RandomForestClassifier</td>\n",
              "      <td>Beat_index,Location Description_index,Communit...</td>\n",
              "      <td>year</td>\n",
              "      <td>Location Features</td>\n",
              "      <td>RFC</td>\n",
              "    </tr>\n",
              "    <tr>\n",
              "      <th>3</th>\n",
              "      <td>0.578528</td>\n",
              "      <td>0.585141</td>\n",
              "      <td>RandomForestClassifier</td>\n",
              "      <td>Beat_index,Location Description_index,Communit...</td>\n",
              "      <td>ratio</td>\n",
              "      <td>Location Features</td>\n",
              "      <td>RFC</td>\n",
              "    </tr>\n",
              "    <tr>\n",
              "      <th>4</th>\n",
              "      <td>0.513568</td>\n",
              "      <td>0.530055</td>\n",
              "      <td>LogisticRegression</td>\n",
              "      <td>Beat_index,Location Description_index,Communit...</td>\n",
              "      <td>year</td>\n",
              "      <td>Time+Location Features</td>\n",
              "      <td>LR</td>\n",
              "    </tr>\n",
              "    <tr>\n",
              "      <th>5</th>\n",
              "      <td>0.529282</td>\n",
              "      <td>0.538889</td>\n",
              "      <td>LogisticRegression</td>\n",
              "      <td>Beat_index,Location Description_index,Communit...</td>\n",
              "      <td>ratio</td>\n",
              "      <td>Time+Location Features</td>\n",
              "      <td>LR</td>\n",
              "    </tr>\n",
              "    <tr>\n",
              "      <th>6</th>\n",
              "      <td>0.557595</td>\n",
              "      <td>0.574469</td>\n",
              "      <td>RandomForestClassifier</td>\n",
              "      <td>Beat_index,Location Description_index,Communit...</td>\n",
              "      <td>year</td>\n",
              "      <td>Time+Location Features</td>\n",
              "      <td>RFC</td>\n",
              "    </tr>\n",
              "    <tr>\n",
              "      <th>7</th>\n",
              "      <td>0.570751</td>\n",
              "      <td>0.582915</td>\n",
              "      <td>RandomForestClassifier</td>\n",
              "      <td>Beat_index,Location Description_index,Communit...</td>\n",
              "      <td>ratio</td>\n",
              "      <td>Time+Location Features</td>\n",
              "      <td>RFC</td>\n",
              "    </tr>\n",
              "    <tr>\n",
              "      <th>8</th>\n",
              "      <td>0.613718</td>\n",
              "      <td>0.614362</td>\n",
              "      <td>GBTClassifier</td>\n",
              "      <td>Beat_index,Location Description_index,Communit...</td>\n",
              "      <td>year</td>\n",
              "      <td>Time+Location Features</td>\n",
              "      <td>GBT</td>\n",
              "    </tr>\n",
              "    <tr>\n",
              "      <th>9</th>\n",
              "      <td>0.610761</td>\n",
              "      <td>0.611984</td>\n",
              "      <td>GBTClassifier</td>\n",
              "      <td>Beat_index,Location Description_index,Communit...</td>\n",
              "      <td>ratio</td>\n",
              "      <td>Time+Location Features</td>\n",
              "      <td>GBT</td>\n",
              "    </tr>\n",
              "  </tbody>\n",
              "</table>\n",
              "</div>\n",
              "    <div class=\"colab-df-buttons\">\n",
              "\n",
              "  <div class=\"colab-df-container\">\n",
              "    <button class=\"colab-df-convert\" onclick=\"convertToInteractive('df-d744f567-c3c8-4e6e-9de1-6868a369ae79')\"\n",
              "            title=\"Convert this dataframe to an interactive table.\"\n",
              "            style=\"display:none;\">\n",
              "\n",
              "  <svg xmlns=\"http://www.w3.org/2000/svg\" height=\"24px\" viewBox=\"0 -960 960 960\">\n",
              "    <path d=\"M120-120v-720h720v720H120Zm60-500h600v-160H180v160Zm220 220h160v-160H400v160Zm0 220h160v-160H400v160ZM180-400h160v-160H180v160Zm440 0h160v-160H620v160ZM180-180h160v-160H180v160Zm440 0h160v-160H620v160Z\"/>\n",
              "  </svg>\n",
              "    </button>\n",
              "\n",
              "  <style>\n",
              "    .colab-df-container {\n",
              "      display:flex;\n",
              "      gap: 12px;\n",
              "    }\n",
              "\n",
              "    .colab-df-convert {\n",
              "      background-color: #E8F0FE;\n",
              "      border: none;\n",
              "      border-radius: 50%;\n",
              "      cursor: pointer;\n",
              "      display: none;\n",
              "      fill: #1967D2;\n",
              "      height: 32px;\n",
              "      padding: 0 0 0 0;\n",
              "      width: 32px;\n",
              "    }\n",
              "\n",
              "    .colab-df-convert:hover {\n",
              "      background-color: #E2EBFA;\n",
              "      box-shadow: 0px 1px 2px rgba(60, 64, 67, 0.3), 0px 1px 3px 1px rgba(60, 64, 67, 0.15);\n",
              "      fill: #174EA6;\n",
              "    }\n",
              "\n",
              "    .colab-df-buttons div {\n",
              "      margin-bottom: 4px;\n",
              "    }\n",
              "\n",
              "    [theme=dark] .colab-df-convert {\n",
              "      background-color: #3B4455;\n",
              "      fill: #D2E3FC;\n",
              "    }\n",
              "\n",
              "    [theme=dark] .colab-df-convert:hover {\n",
              "      background-color: #434B5C;\n",
              "      box-shadow: 0px 1px 3px 1px rgba(0, 0, 0, 0.15);\n",
              "      filter: drop-shadow(0px 1px 2px rgba(0, 0, 0, 0.3));\n",
              "      fill: #FFFFFF;\n",
              "    }\n",
              "  </style>\n",
              "\n",
              "    <script>\n",
              "      const buttonEl =\n",
              "        document.querySelector('#df-d744f567-c3c8-4e6e-9de1-6868a369ae79 button.colab-df-convert');\n",
              "      buttonEl.style.display =\n",
              "        google.colab.kernel.accessAllowed ? 'block' : 'none';\n",
              "\n",
              "      async function convertToInteractive(key) {\n",
              "        const element = document.querySelector('#df-d744f567-c3c8-4e6e-9de1-6868a369ae79');\n",
              "        const dataTable =\n",
              "          await google.colab.kernel.invokeFunction('convertToInteractive',\n",
              "                                                    [key], {});\n",
              "        if (!dataTable) return;\n",
              "\n",
              "        const docLinkHtml = 'Like what you see? Visit the ' +\n",
              "          '<a target=\"_blank\" href=https://colab.research.google.com/notebooks/data_table.ipynb>data table notebook</a>'\n",
              "          + ' to learn more about interactive tables.';\n",
              "        element.innerHTML = '';\n",
              "        dataTable['output_type'] = 'display_data';\n",
              "        await google.colab.output.renderOutput(dataTable, element);\n",
              "        const docLink = document.createElement('div');\n",
              "        docLink.innerHTML = docLinkHtml;\n",
              "        element.appendChild(docLink);\n",
              "      }\n",
              "    </script>\n",
              "  </div>\n",
              "\n",
              "\n",
              "<div id=\"df-0e257e09-e69f-40a5-ac3b-3f00a43132e6\">\n",
              "  <button class=\"colab-df-quickchart\" onclick=\"quickchart('df-0e257e09-e69f-40a5-ac3b-3f00a43132e6')\"\n",
              "            title=\"Suggest charts\"\n",
              "            style=\"display:none;\">\n",
              "\n",
              "<svg xmlns=\"http://www.w3.org/2000/svg\" height=\"24px\"viewBox=\"0 0 24 24\"\n",
              "     width=\"24px\">\n",
              "    <g>\n",
              "        <path d=\"M19 3H5c-1.1 0-2 .9-2 2v14c0 1.1.9 2 2 2h14c1.1 0 2-.9 2-2V5c0-1.1-.9-2-2-2zM9 17H7v-7h2v7zm4 0h-2V7h2v10zm4 0h-2v-4h2v4z\"/>\n",
              "    </g>\n",
              "</svg>\n",
              "  </button>\n",
              "\n",
              "<style>\n",
              "  .colab-df-quickchart {\n",
              "      --bg-color: #E8F0FE;\n",
              "      --fill-color: #1967D2;\n",
              "      --hover-bg-color: #E2EBFA;\n",
              "      --hover-fill-color: #174EA6;\n",
              "      --disabled-fill-color: #AAA;\n",
              "      --disabled-bg-color: #DDD;\n",
              "  }\n",
              "\n",
              "  [theme=dark] .colab-df-quickchart {\n",
              "      --bg-color: #3B4455;\n",
              "      --fill-color: #D2E3FC;\n",
              "      --hover-bg-color: #434B5C;\n",
              "      --hover-fill-color: #FFFFFF;\n",
              "      --disabled-bg-color: #3B4455;\n",
              "      --disabled-fill-color: #666;\n",
              "  }\n",
              "\n",
              "  .colab-df-quickchart {\n",
              "    background-color: var(--bg-color);\n",
              "    border: none;\n",
              "    border-radius: 50%;\n",
              "    cursor: pointer;\n",
              "    display: none;\n",
              "    fill: var(--fill-color);\n",
              "    height: 32px;\n",
              "    padding: 0;\n",
              "    width: 32px;\n",
              "  }\n",
              "\n",
              "  .colab-df-quickchart:hover {\n",
              "    background-color: var(--hover-bg-color);\n",
              "    box-shadow: 0 1px 2px rgba(60, 64, 67, 0.3), 0 1px 3px 1px rgba(60, 64, 67, 0.15);\n",
              "    fill: var(--button-hover-fill-color);\n",
              "  }\n",
              "\n",
              "  .colab-df-quickchart-complete:disabled,\n",
              "  .colab-df-quickchart-complete:disabled:hover {\n",
              "    background-color: var(--disabled-bg-color);\n",
              "    fill: var(--disabled-fill-color);\n",
              "    box-shadow: none;\n",
              "  }\n",
              "\n",
              "  .colab-df-spinner {\n",
              "    border: 2px solid var(--fill-color);\n",
              "    border-color: transparent;\n",
              "    border-bottom-color: var(--fill-color);\n",
              "    animation:\n",
              "      spin 1s steps(1) infinite;\n",
              "  }\n",
              "\n",
              "  @keyframes spin {\n",
              "    0% {\n",
              "      border-color: transparent;\n",
              "      border-bottom-color: var(--fill-color);\n",
              "      border-left-color: var(--fill-color);\n",
              "    }\n",
              "    20% {\n",
              "      border-color: transparent;\n",
              "      border-left-color: var(--fill-color);\n",
              "      border-top-color: var(--fill-color);\n",
              "    }\n",
              "    30% {\n",
              "      border-color: transparent;\n",
              "      border-left-color: var(--fill-color);\n",
              "      border-top-color: var(--fill-color);\n",
              "      border-right-color: var(--fill-color);\n",
              "    }\n",
              "    40% {\n",
              "      border-color: transparent;\n",
              "      border-right-color: var(--fill-color);\n",
              "      border-top-color: var(--fill-color);\n",
              "    }\n",
              "    60% {\n",
              "      border-color: transparent;\n",
              "      border-right-color: var(--fill-color);\n",
              "    }\n",
              "    80% {\n",
              "      border-color: transparent;\n",
              "      border-right-color: var(--fill-color);\n",
              "      border-bottom-color: var(--fill-color);\n",
              "    }\n",
              "    90% {\n",
              "      border-color: transparent;\n",
              "      border-bottom-color: var(--fill-color);\n",
              "    }\n",
              "  }\n",
              "</style>\n",
              "\n",
              "  <script>\n",
              "    async function quickchart(key) {\n",
              "      const quickchartButtonEl =\n",
              "        document.querySelector('#' + key + ' button');\n",
              "      quickchartButtonEl.disabled = true;  // To prevent multiple clicks.\n",
              "      quickchartButtonEl.classList.add('colab-df-spinner');\n",
              "      try {\n",
              "        const charts = await google.colab.kernel.invokeFunction(\n",
              "            'suggestCharts', [key], {});\n",
              "      } catch (error) {\n",
              "        console.error('Error during call to suggestCharts:', error);\n",
              "      }\n",
              "      quickchartButtonEl.classList.remove('colab-df-spinner');\n",
              "      quickchartButtonEl.classList.add('colab-df-quickchart-complete');\n",
              "    }\n",
              "    (() => {\n",
              "      let quickchartButtonEl =\n",
              "        document.querySelector('#df-0e257e09-e69f-40a5-ac3b-3f00a43132e6 button');\n",
              "      quickchartButtonEl.style.display =\n",
              "        google.colab.kernel.accessAllowed ? 'block' : 'none';\n",
              "    })();\n",
              "  </script>\n",
              "</div>\n",
              "    </div>\n",
              "  </div>\n"
            ]
          },
          "metadata": {},
          "execution_count": 316
        }
      ]
    },
    {
      "cell_type": "code",
      "source": [
        "max_model_performances_df_year = max_model_performances_df[max_model_performances_df['split_type']=='year'].reset_index()"
      ],
      "metadata": {
        "id": "3qaSJP-BYzyO"
      },
      "execution_count": 317,
      "outputs": []
    },
    {
      "cell_type": "code",
      "source": [
        "max_model_performances_df_ratio = max_model_performances_df[max_model_performances_df['split_type']=='ratio'].reset_index()"
      ],
      "metadata": {
        "id": "G2anA89-Y6Q8"
      },
      "execution_count": 318,
      "outputs": []
    },
    {
      "cell_type": "markdown",
      "source": [
        "Model Performance Visualiasation as per Year based Split Type Approach"
      ],
      "metadata": {
        "id": "sr3AEMUUlTaO"
      }
    },
    {
      "cell_type": "code",
      "source": [
        "show_model_performance(max_model_performances_df_year.sort_values(\"f1\"),SPLIT_TYPE_YEAR)"
      ],
      "metadata": {
        "colab": {
          "base_uri": "https://localhost:8080/",
          "height": 707
        },
        "id": "kNF0r-kORcWr",
        "outputId": "74d1bceb-b4c0-4b58-bf99-fa361d3a1afa"
      },
      "execution_count": 319,
      "outputs": [
        {
          "output_type": "display_data",
          "data": {
            "text/plain": [
              "<Figure size 1000x700 with 1 Axes>"
            ],
            "image/png": "[encoded data removed]"
          },
          "metadata": {}
        }
      ]
    },
    {
      "cell_type": "markdown",
      "source": [
        "Model Performance Visualiasation as per Ratio Based Split Type Approach"
      ],
      "metadata": {
        "id": "--puhzKvlb4x"
      }
    },
    {
      "cell_type": "code",
      "source": [
        "show_model_performance(max_model_performances_df_ratio.sort_values(\"f1\"),SPLIT_TYPE_RATIO)"
      ],
      "metadata": {
        "colab": {
          "base_uri": "https://localhost:8080/",
          "height": 707
        },
        "id": "_eXsVj2YhY1O",
        "outputId": "f8de03e8-2f4d-45b5-bd38-2fe9cb60518b"
      },
      "execution_count": 321,
      "outputs": [
        {
          "output_type": "display_data",
          "data": {
            "text/plain": [
              "<Figure size 1000x700 with 1 Axes>"
            ],
            "image/png": "[encoded data removed]"
          },
          "metadata": {}
        }
      ]
    },
    {
      "cell_type": "code",
      "source": [],
      "metadata": {
        "id": "xunicQPInsqD"
      },
      "execution_count": 320,
      "outputs": []
    }
  ],
  "metadata": {
    "colab": {
      "provenance": []
    },
    "kernelspec": {
      "display_name": "Python 3",
      "name": "python3"
    },
    "language_info": {
      "name": "python"
    }
  },
  "nbformat": 4,
  "nbformat_minor": 0
}
